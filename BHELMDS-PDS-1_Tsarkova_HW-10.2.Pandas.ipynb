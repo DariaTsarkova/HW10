{
 "cells": [
  {
   "cell_type": "code",
   "execution_count": 111,
   "id": "c9eec896-af59-4bc9-9321-0dde1a014495",
   "metadata": {},
   "outputs": [
    {
     "name": "stdout",
     "output_type": "stream",
     "text": [
      "Суммарное потребление стран Прибалтики категорий 4, 12, 21 за 2005-2010: 38936973365.6806\n"
     ]
    }
   ],
   "source": [
    "import pandas as pd\n",
    "\n",
    "power = pd.read_csv(r'C:\\Users\\Dasha\\HW10\\power.csv')\n",
    "power.head()\n",
    "\n",
    "def baltic (country):\n",
    "    \"\"\" Объединение стран Прибалтики \"\"\"\n",
    "    if country in ['Lithuania', 'Latvia', 'Estonia']:\n",
    "        return 'Прибалтика'\n",
    "    return 'Other'\n",
    "power['baltic'] = power.country.apply(baltic)\n",
    "\n",
    "filtered_power = power [\n",
    "(power['baltic'] == 'Прибалтика')  &\n",
    "(power['category'] == 4) | (power['category'] == 12) | (power['category'] == 21) &\n",
    "(power ['year'] <= 2010) & (power ['year'] >= 2005 ) &\n",
    "(power ['quantity'] >= 0)\n",
    "]\n",
    "total_quantity = filtered_power['quantity'].sum()\n",
    "print(f\"Суммарное потребление стран Прибалтики категорий 4, 12, 21 за 2005-2010: {total_quantity}\")"
   ]
  }
 ],
 "metadata": {
  "kernelspec": {
   "display_name": "Python 3 (ipykernel)",
   "language": "python",
   "name": "python3"
  },
  "language_info": {
   "codemirror_mode": {
    "name": "ipython",
    "version": 3
   },
   "file_extension": ".py",
   "mimetype": "text/x-python",
   "name": "python",
   "nbconvert_exporter": "python",
   "pygments_lexer": "ipython3",
   "version": "3.12.7"
  }
 },
 "nbformat": 4,
 "nbformat_minor": 5
}
