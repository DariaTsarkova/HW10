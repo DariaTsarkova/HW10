{
 "cells": [
  {
   "cell_type": "code",
   "execution_count": 138,
   "id": "4534f232-4399-4f5a-a694-ebd364d91653",
   "metadata": {},
   "outputs": [
    {
     "data": {
      "text/html": [
       "<div>\n",
       "<style scoped>\n",
       "    .dataframe tbody tr th:only-of-type {\n",
       "        vertical-align: middle;\n",
       "    }\n",
       "\n",
       "    .dataframe tbody tr th {\n",
       "        vertical-align: top;\n",
       "    }\n",
       "\n",
       "    .dataframe thead th {\n",
       "        text-align: right;\n",
       "    }\n",
       "</style>\n",
       "<table border=\"1\" class=\"dataframe\">\n",
       "  <thead>\n",
       "    <tr style=\"text-align: right;\">\n",
       "      <th></th>\n",
       "      <th>movieId</th>\n",
       "    </tr>\n",
       "    <tr>\n",
       "      <th>title</th>\n",
       "      <th></th>\n",
       "    </tr>\n",
       "  </thead>\n",
       "  <tbody>\n",
       "    <tr>\n",
       "      <th>Shawshank Redemption, The (1994)</th>\n",
       "      <td>153</td>\n",
       "    </tr>\n",
       "  </tbody>\n",
       "</table>\n",
       "</div>"
      ],
      "text/plain": [
       "                                  movieId\n",
       "title                                    \n",
       "Shawshank Redemption, The (1994)      153"
      ]
     },
     "execution_count": 138,
     "metadata": {},
     "output_type": "execute_result"
    }
   ],
   "source": [
    "import pandas as pd\n",
    "\n",
    "movies = pd.read_csv(r'C:\\Users\\Dasha\\HW10\\movies.csv') # загружаем файл\n",
    "ratings = pd.read_csv(r'C:\\Users\\Dasha\\HW10\\ratings.csv') # загружаем файл\n",
    "joined = movies.merge(ratings, on='movieId', how='left') # объединяю два DataFrame по столбцу movieId, используя левое соединение\n",
    "joined.query('rating == 5.0', inplace = True) # фильтрую объекты, оставляя только те, у которых оценка (rating) равна 5.0 и обновляю joined\n",
    "joined[['movieId', 'title']].groupby('title').count().sort_values('movieId', ascending = False).head(1) # выбираете нужные столбцы: movieId и title, группирую данные по названию фильма (title) и подсчитываю количество записей для каждого фильма с помощью метода count(),для каждого названия фильма будет указано, сколько раз оно встречается в списке. После этого результаты сортирую по movieId в порядке убывания для получения фильмов с наибольшим количеством оценок, метод head(1) возвращает первую строку из отсортированного списка."
   ]
  }
 ],
 "metadata": {
  "kernelspec": {
   "display_name": "Python 3 (ipykernel)",
   "language": "python",
   "name": "python3"
  },
  "language_info": {
   "codemirror_mode": {
    "name": "ipython",
    "version": 3
   },
   "file_extension": ".py",
   "mimetype": "text/x-python",
   "name": "python",
   "nbconvert_exporter": "python",
   "pygments_lexer": "ipython3",
   "version": "3.12.7"
  }
 },
 "nbformat": 4,
 "nbformat_minor": 5
}
